{
 "cells": [
  {
   "cell_type": "code",
   "execution_count": null,
   "metadata": {},
   "outputs": [
    {
     "name": "stdout",
     "output_type": "stream",
     "text": [
      "----------------------------\n",
      "        Menu        \n",
      "Enter (+) for Addition\n",
      "Enter (-) for Subtraction\n",
      "Enter (*) for Multiplication\n",
      "Enter (/) for Division\n",
      "Enter (e) to Exit\n",
      "----------------------------\n",
      "Enter your Option: +\n",
      "Enter 1st Number: 20\n",
      "Enter 2nd Number: 30\n",
      "[+] Answer:  50.0\n",
      "----------------------------\n",
      "        Menu        \n",
      "Enter (+) for Addition\n",
      "Enter (-) for Subtraction\n",
      "Enter (*) for Multiplication\n",
      "Enter (/) for Division\n",
      "Enter (e) to Exit\n",
      "----------------------------\n"
     ]
    }
   ],
   "source": [
    "def calculator():\n",
    "    '''\n",
    "    This is our main function which entails the flow of our calculator program\n",
    "    '''\n",
    "\n",
    "    validMenuOptions = [\"+\", \"-\", \"*\", \"/\", \"e\"]\n",
    "    while True:\n",
    "        displayMenu()\n",
    "\n",
    "        menuSelection = input(\"Enter your Option: \")\n",
    "\n",
    "        # Handling user's menu input\n",
    "        if menuSelection not in validMenuOptions:\n",
    "            print(\"[-] Error: Invalid Input!\")\n",
    "        elif menuSelection == \"e\":\n",
    "            print(\"[+] Program Terminated!\")\n",
    "            break\n",
    "        else:\n",
    "            # Asking user to enter numbers\n",
    "            try:\n",
    "                firstNumber = float(input(\"Enter 1st Number: \"))\n",
    "                secondNumber = float(input(\"Enter 2nd Number: \"))\n",
    "\n",
    "                result = 0\n",
    "\n",
    "                # Checking each possibility and storing the output in 'result' variable\n",
    "                if menuSelection == \"+\":\n",
    "                    result = firstNumber + secondNumber\n",
    "                    print(\"[+] Answer: \", result)\n",
    "                elif menuSelection == \"-\":\n",
    "                    result = firstNumber - secondNumber\n",
    "                    print(\"[+] Answer: \", result)\n",
    "                elif menuSelection == \"*\":\n",
    "                    result = firstNumber * secondNumber\n",
    "                    print(\"[+] Answer: \", result)\n",
    "                elif menuSelection == \"/\":\n",
    "                    if secondNumber == 0:\n",
    "                        print(\"[-] Error: Cannot divide by zero\")\n",
    "                    else:\n",
    "                        result = firstNumber / secondNumber\n",
    "                        print(\"[+] Answer: \", result)\n",
    "            except:\n",
    "                print(\"[-] Error: Invalid Input! Only numerical input is allowed.\")\n",
    "\n",
    "\n",
    "\n",
    "def displayMenu():\n",
    "    print(\"----------------------------\")\n",
    "    print(\"        Menu        \")\n",
    "    print(\"Enter (+) for Addition\")\n",
    "    print(\"Enter (-) for Subtraction\")\n",
    "    print(\"Enter (*) for Multiplication\")\n",
    "    print(\"Enter (/) for Division\")\n",
    "    print(\"Enter (e) to Exit\")\n",
    "    print(\"----------------------------\")\n",
    "\n",
    "\n",
    "if __name__ == \"__main__\":\n",
    "    calculator()"
   ]
  },
  {
   "cell_type": "code",
   "execution_count": null,
   "metadata": {},
   "outputs": [],
   "source": []
  }
 ],
 "metadata": {
  "kernelspec": {
   "display_name": "Python 3",
   "language": "python",
   "name": "python3"
  },
  "language_info": {
   "codemirror_mode": {
    "name": "ipython",
    "version": 3
   },
   "file_extension": ".py",
   "mimetype": "text/x-python",
   "name": "python",
   "nbconvert_exporter": "python",
   "pygments_lexer": "ipython3",
   "version": "3.8.5"
  }
 },
 "nbformat": 4,
 "nbformat_minor": 4
}
